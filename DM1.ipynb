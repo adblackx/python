{
 "cells": [
  {
   "cell_type": "markdown",
   "metadata": {
    "collapsed": false
   },
   "source": [
    "Quelques conseils:\n",
    "- pour exécutez une cellule, cliquez sur le bouton *Exécuter* ci-dessus ou tapez **Shift+Enter**\n",
    "- si l'exécution d'une cellule prend trop de temps, sélectionner dans le menu ci-dessus *Noyau/Interrompre*\n",
    "- en cas de très gros plantage *Noyau/Redémarrer*\n",
    "- **sauvegardez régulièrement vos réponses** en cliquant sur l'icone disquette ci-dessus à gauche, ou *Fichier/Créer une nouvelle sauvegarde*\n",
    "\n",
    "Pour répondre aux questions, remplacer les lignes  \n",
    "```python \n",
    "#LA REPONSE ICI\n",
    "raise NotImplementedError()\n",
    "``` \n",
    "par vos réponses, et remplissez les champs ci-dessous:"
   ]
  },
  {
   "cell_type": "code",
   "execution_count": 1,
   "metadata": {
    "collapsed": false
   },
   "outputs": [
   ],
   "source": [
    "NOM = \"VAUDABLE\"\n",
    "PRENOM = \"MATTHIS\"\n",
    "GROUPE = \"3\"\n",
    "DATE = \"11/10/09\""
   ]
  },
  {
   "cell_type": "markdown",
   "metadata": {
    "collapsed": false
   },
   "source": [
    "---"
   ]
  },
  {
   "cell_type": "markdown",
   "metadata": {
    "collapsed": false,
    "deletable": false,
    "editable": false,
    "nbgrader": {
     "cell_type": "markdown",
     "checksum": "54a38c2641e058ce81dd78056ea67c92",
     "grade": false,
     "grade_id": "cell-c5ea25f514572b29",
     "locked": true,
     "schema_version": 3,
     "solution": false,
     "task": false
    }
   },
   "source": [
    "# Modélisation d'un feu de forêt à l'aide d'un automate cellulaire\n",
    "On va dans ce DM s'intéresser à la modélisation d'un feu de forêt grâce à un modèle simple de transmission du feu au travers d'arbres voisins."
   ]
  },
  {
   "cell_type": "code",
   "execution_count": 2,
   "metadata": {
    "collapsed": false
   },
   "outputs": [
   ],
   "source": [
    "import numpy as np\n",
    "import matplotlib.pyplot as plt"
   ]
  },
  {
   "cell_type": "markdown",
   "metadata": {
    "collapsed": false,
    "deletable": false,
    "editable": false,
    "nbgrader": {
     "cell_type": "markdown",
     "checksum": "52967e4ae4f8b4a170762a811fa62928",
     "grade": false,
     "grade_id": "cell-691e2815ed3329b5",
     "locked": true,
     "schema_version": 3,
     "solution": false,
     "task": false
    }
   },
   "source": [
    "### Préambule : Affichage de la forêt\n",
    "On représentera la forêt par un tableau de nombres à deux dimensions. La valeur de la case (i,j) de la grille est donnée par : \n",
    "   * 1 s'il y a un arbre\n",
    "   * 0 s'il n'y a rien\n",
    "   * -1 s'il y a un arbre qui brule\n",
    "   * -2 si l'arbre a fini de bruler\n",
    "   \n",
    "On donne la fonction plotGrid(T) qui affiche une tableau à deux dimensions en mettant en vert les arbres, en rouge les arbres brulés et en noir le vide"
   ]
  },
  {
   "cell_type": "code",
   "execution_count": 3,
   "metadata": {
    "collapsed": false
   },
   "outputs": [
   ],
   "source": [
    "import matplotlib.colors\n",
    "import numpy as np\n",
    "\n",
    "def plotGrid(T):\n",
    "    cmap = matplotlib.colors.ListedColormap(['gray','red','black','green'])\n",
    "    boundaries = [-2,-1,-0.1,0.9,1.2]\n",
    "    norm = matplotlib.colors.BoundaryNorm(boundaries, cmap.N, clip=True)\n",
    "    plt.figure(figsize=(5,5))\n",
    "    plt.pcolor(T,cmap=cmap,norm=norm)\n",
    "    plt.show()"
   ]
  },
  {
   "cell_type": "markdown",
   "metadata": {
    "collapsed": false,
    "deletable": false,
    "editable": false,
    "nbgrader": {
     "cell_type": "markdown",
     "checksum": "b91488c83e101b596e082a10399f1a66",
     "grade": false,
     "grade_id": "cell-60446130d6aed404",
     "locked": true,
     "schema_version": 3,
     "solution": false,
     "task": false
    }
   },
   "source": [
    "### Q1 / Produire une forêt initiale\n",
    "Faire une fonction produireForet(densite,Lx,Ly) qui renvoie une forêt d'arbres vivants, prenant comme argument la probabilité $p$ d'avoir un arbre par case ($p$ est un float entre 0 et 1). On utilisera la fonction binomial du numpy.random.binomial(n,p,size=None) (regarder sa documentation), en considérant $n=1$. \n",
    "\n",
    "On considérera la case (0,0) comme étant la source initiale du feu : elle vaut donc -1 initialement. \n",
    "\n",
    "Afficher une forêt de taille size = (10,10) avec une densité $p = 0.9$."
   ]
  },
  {
   "cell_type": "code",
   "execution_count": 138,
   "metadata": {
    "collapsed": false,
    "deletable": false,
    "nbgrader": {
     "cell_type": "code",
     "checksum": "dd4e719fb7c4ed09bbfec63d7077eaf0",
     "grade": true,
     "grade_id": "cell-39a8e7557fe39544",
     "locked": false,
     "points": 12,
     "schema_version": 3,
     "solution": true,
     "task": false
    }
   },
   "outputs": [
    {
     "data": {
      "image/png": "[encoded data removed]",
      "text/plain": [
       "<Figure size 360x360 with 1 Axes>"
      ]
     },
     "execution_count": 138,
     "metadata": {
      "image/png": {
       "height": 306,
       "width": 319
      }
     },
     "output_type": "execute_result"
    },
    {
     "data": {
      "image/png": "[encoded data removed]",
      "text/plain": [
       "<Figure size 360x360 with 1 Axes>"
      ]
     },
     "execution_count": 138,
     "metadata": {
      "image/png": {
       "height": 302,
       "width": 313
      }
     },
     "output_type": "execute_result"
    }
   ],
   "source": [
    "def produireForet(p,Lx,Ly):\n",
    "    foret = np.ones((Lx,Ly))  #crée un tableau de taille 10 10\n",
    "    for i in range(Lx):\n",
    "        for j in range(Ly):\n",
    "            foret[i][j]=np.random.binomial(1,p,size=None) #met un chiffre aleatoire pour chaque case\n",
    "    foret[0][0] = -1#depart du feu donne la valeur apres la boucle pour etre sur d'avoir la bonne valeur\n",
    "    #foret[0][1] = -1  #test pour la fonction listeFlamme\n",
    "    return foret\n",
    "#TESTS\n",
    "plotGrid(produireForet(0.9,10,10))\n",
    "plotGrid(produireForet(0.9,15,15))"
   ]
  },
  {
   "cell_type": "markdown",
   "metadata": {
    "collapsed": false,
    "deletable": false,
    "editable": false,
    "nbgrader": {
     "cell_type": "markdown",
     "checksum": "70cbc83f0dd9d90fd1dd42c9a6ee53e5",
     "grade": false,
     "grade_id": "cell-64c352117270db7b",
     "locked": true,
     "schema_version": 3,
     "solution": false,
     "task": false
    }
   },
   "source": [
    "### Q2 / Voisins d'une case\n",
    "Ecrire une fonction voisins(T,case) qui renvoie un tableau contenant les voisines de la case case dans le tableau T. On fera attention aux cas extrêmes où i ou j est en bord de tableau."
   ]
  },
  {
   "cell_type": "code",
   "execution_count": 5,
   "metadata": {
    "collapsed": false
   },
   "outputs": [
    {
     "name": "stdout",
     "output_type": "stream",
     "text": [
      "[1 2 3 4]\n"
     ]
    }
   ],
   "source": [
    "print(np.arange(1,5,1))"
   ]
  },
  {
   "cell_type": "code",
   "execution_count": 8,
   "metadata": {
    "collapsed": false,
    "deletable": false,
    "nbgrader": {
     "cell_type": "code",
     "checksum": "4a4a9119b8ea49a8a8829627dd5a485f",
     "grade": true,
     "grade_id": "cell-7d45e5514a748a71",
     "locked": false,
     "points": 16,
     "schema_version": 3,
     "solution": true,
     "task": false
    }
   },
   "outputs": [
    {
     "data": {
      "text/plain": [
       "[[0, 7], [2, 7], [0, 6], [1, 6], [2, 6], [0, 8], [1, 8], [2, 8]]"
      ]
     },
     "execution_count": 8,
     "metadata": {
     },
     "output_type": "execute_result"
    }
   ],
   "source": [
    "def voisins(T,case):                                          #la fonction renvoie l'indice des cases voisines et leur contenu\n",
    "    casesVoisines = []\n",
    "    x,y = case\n",
    "    a = len(T)-1 #indice max en abscisse de T\n",
    "    b = len(T[0]) -1#indice max en ordonnée de T\n",
    "    # on cherche le x min et le x max dans un premier temps\n",
    "    minX, maxX = 0,0\n",
    "    if(x == 0): # on cherche le minimum en X\n",
    "        minX = 0\n",
    "    else:\n",
    "        minX = x-1\n",
    "        casesVoisines.append([minX, y])\n",
    "    if(x == a):\n",
    "        maxX = a\n",
    "    else:\n",
    "        maxX = x + 1\n",
    "        casesVoisines.append([maxX, y])\n",
    "    if(y!=0):\n",
    "        for i in np.arange(minX,maxX+1 ,1):\n",
    "            casesVoisines.append([i, y-1])\n",
    "\n",
    "    if(y != b):\n",
    "        for i in np.arange(minX,maxX+1,1):\n",
    "            casesVoisines.append([i, y+1])\n",
    "    #print(casesVoisines)\n",
    "    return casesVoisines\n",
    "\n",
    "#TESTS    \n",
    "voisins(produireForet(0.9,10,10),[1,7])\n",
    "voisins(produireForet(0.9,10,10),[0,0])\n",
    "voisins(produireForet(0.9,10,10),[0,9])\n",
    "voisins(produireForet(0.9,10,10),[9,9])\n",
    "voisins(produireForet(0.2,15,15),[1,7])"
   ]
  },
  {
   "cell_type": "code",
   "execution_count": 7,
   "metadata": {
    "collapsed": false
   },
   "outputs": [
    {
     "data": {
      "text/plain": [
       "([0, 8],\n",
       " [1, 8],\n",
       " [2, 8],\n",
       " [2, 7],\n",
       " [2, 6],\n",
       " [1, 6],\n",
       " [0, 6],\n",
       " [0, 7],\n",
       " [0.0, 0.0, 0.0, 0.0, 1.0, 1.0, 0.0, 0.0])"
      ]
     },
     "execution_count": 7,
     "metadata": {
     },
     "output_type": "execute_result"
    }
   ],
   "source": [
    "def voisins(T,case):                                          #la fonction renvoie l'indice des cases voisines et leur contenu\n",
    "    x,y = case\n",
    "    a = len(T)-1 #indice max en abscisse de T\n",
    "    b = len(T[0])-1  #indice max en ordonnée de T\n",
    "    \n",
    "    if x==0 and y==0:\n",
    "        return [[x,y+1],[x+1,y+1],[x+1,y]],[T[x][y+1],T[x+1][y+1],T[x+1][y]]             #cas des 4 coins on definit les case dans le sens horaire\n",
    "    elif x==a and y==0:\n",
    "        return [x-1,y],[x-1,y+1],[x,y+1],[T[x-1][y],T[x-1][y+1],T[x][y+1]]\n",
    "    elif x==a and y==b:\n",
    "        return [x-1,y],[x-1,y-1],[x,y-1],[T[x-1][y],T[x-1][y-1],T[x][y-1]]\n",
    "    elif x==0 and y==b:\n",
    "        return [x,y-1],[x+1,y-1],[x+1,y],[T[x][y-1],T[x+1][y-1],T[x+1][y]]\n",
    "    \n",
    "    elif x==0 and 0<y<b :                                                 #bord gauche\n",
    "        return [x,y-1],[x+1,y-1],[x+1,y],[x+1,y+1],[x,y+1],[T[x][y-1],T[x+1][y-1],T[x+1][y],T[x+1][y+1],T[x][y+1]]\n",
    "    elif x==a and 0<y<b :                                                 #bord droit\n",
    "        return [x,y-1],[x-1,y-1],[x-1,y],[x+1,y+1],[x,y+1],[T[x][y-1],T[x-1][y-1],T[x-1][y],T[x+1][y+1],T[x][y+1]]\n",
    "    elif 0<x<a and y==0 :                                                #bord bas\n",
    "        return [x-1,y],[x-1,y+1],[x,y+1],[x+1,y+1],[x+1,y],[T[x-1][y],T[x-1][y+1],T[x][y+1],T[x+1][y+1],T[x+1][y]]\n",
    "    elif 0<x<a and y==b :                                                  #bord haut\n",
    "        return [x-1,y],[x-1,y-1],[x,y-1],[x+1,y-1],[x+1,y],[T[x-1][y],T[x-1][y-1],T[x][y-1],T[x+1][y-1],T[x+1][y]]\n",
    "    \n",
    "    elif 0<x<a and 0<y<b :                                               #milieu on commence par le coiin en haut a gauche\n",
    "        return [x-1,y+1],[x,y+1],[x+1,y+1],[x+1,y],[x+1,y-1],[x,y-1],[x-1,y-1],[x-1,y],[T[x-1][y+1],T[x][y+1],T[x+1][y+1],T[x+1][y],T[x+1][y-1],T[x][y-1],T[x-1][y-1],T[x-1][y]]\n",
    "\n",
    "    \n",
    "#TESTS    \n",
    "voisins(produireForet(0.9,10,10),[1,7])\n",
    "voisins(produireForet(0.2,15,15),[1,7])"
   ]
  },
  {
   "cell_type": "markdown",
   "metadata": {
    "collapsed": false,
    "deletable": false,
    "editable": false,
    "nbgrader": {
     "cell_type": "markdown",
     "checksum": "c2b7a980087c40ea5ccb69f3e439f20c",
     "grade": false,
     "grade_id": "cell-a3a44feab1119e9e",
     "locked": true,
     "schema_version": 3,
     "solution": false,
     "task": false
    }
   },
   "source": [
    "### Q3 / Qui brûle ?\n",
    "Ecrire une fonction listeFlamme(T) qui renvoie le nombre d'arbre en train de brûler dans la forêt T. On utilisera la fonction where du module numpy."
   ]
  },
  {
   "cell_type": "code",
   "execution_count": 80,
   "metadata": {
    "collapsed": false,
    "deletable": false,
    "nbgrader": {
     "cell_type": "code",
     "checksum": "77633e41e1c044c33a3e125dc0a71e74",
     "grade": true,
     "grade_id": "cell-09e67d659ede29c6",
     "locked": false,
     "points": 12,
     "schema_version": 3,
     "solution": true,
     "task": false
    }
   },
   "outputs": [
    {
     "data": {
      "text/plain": [
       "1"
      ]
     },
     "execution_count": 80,
     "metadata": {
     },
     "output_type": "execute_result"
    }
   ],
   "source": [
    "def listeFlamme(T): #modifiée ici je renvoie le nombre\n",
    "    #print(T)\n",
    "    nmb = np.where(T==1)\n",
    "    #print(test[1])\n",
    "    return len(np.where(T==-1)[0])\n",
    "listeFlamme(produireForet(0.1,10,10))"
   ]
  },
  {
   "cell_type": "markdown",
   "metadata": {
    "collapsed": false,
    "deletable": false,
    "editable": false,
    "nbgrader": {
     "cell_type": "markdown",
     "checksum": "6e228f2b2ef8d66fba170057c7f2473b",
     "grade": false,
     "grade_id": "cell-1427e19be29916f5",
     "locked": true,
     "schema_version": 3,
     "solution": false,
     "task": false
    }
   },
   "source": [
    "### Q4 / Évolution élémentaire du feu\n",
    "Ecrire une fonction update(T) qui renvoie un tableau avec l'état de la forêt à l'instant t+1 selon les règles suivantes :\n",
    "* Si un arbre intact est voisin d'un arbre enflammé alors il s'enflamme. \n",
    "* Si un arbre est enflammé alors il est complètement brûlé au tour suivant.\n",
    "* S'il n'y a rien sur la case alors il n'y a toujours rien au tour suivant. \n",
    "\n",
    "Tester la fonction en affichant le résultat de la propagation d'un feu sur une forêt de taille 10x10 et de densité 0.7. On vérifiera en particulier que les arbres se mettent effectivement à bruler lorsqu'ils sont au voisinage du feu et disparaissent après avoir brûlé. Les cases vides sont sensées rester vides."
   ]
  },
  {
   "cell_type": "code",
   "execution_count": 66,
   "metadata": {
    "collapsed": false,
    "deletable": false,
    "nbgrader": {
     "cell_type": "code",
     "checksum": "357492a411020239f3a63dc5d0fa9beb",
     "grade": true,
     "grade_id": "cell-ea1ca8e9cb6dbff5",
     "locked": false,
     "points": 12,
     "schema_version": 3,
     "solution": true,
     "task": false
    }
   },
   "outputs": [
   ],
   "source": [
    "def update(T):\n",
    "    enflammees = listeFlamme(T)\n",
    "    arabres_enflames = np.where(T==-1) # coordonnees des arbres intacts y, x\n",
    "    for compteur in range(enflammees): #on parcours la liste des arbres intacts\n",
    "        x = arabres_enflames[0][compteur] #coordonnées\n",
    "        y = arabres_enflames[1][compteur]\n",
    "        les_voisins = voisins(T, [x,y])\n",
    "        for v in les_voisins:\n",
    "            if T[v[0]][v[1]] == 1:\n",
    "                T[v[0]][v[1]] = -1\n",
    "        T[x][y]=-2 #une fois qu on a ttrouve tous les arbres intacts de l'arbre qui brule en sur ce tour on le met a -2"
   ]
  },
  {
   "cell_type": "code",
   "execution_count": 67,
   "metadata": {
    "collapsed": false,
    "deletable": false,
    "nbgrader": {
     "cell_type": "code",
     "checksum": "01719ee15113e2dc3d6846369ca2a887",
     "grade": true,
     "grade_id": "cell-415b7f36e05a690a",
     "locked": false,
     "points": 1,
     "schema_version": 3,
     "solution": true,
     "task": false
    }
   },
   "outputs": [
    {
     "name": "stdout",
     "output_type": "stream",
     "text": [
      "[[-1.  1.  1.  0.  1.  1.  0.  0.  1.  1.]\n",
      " [ 1.  0.  0.  0.  0.  0.  1.  0.  1.  1.]\n",
      " [ 1.  1.  1.  0.  1.  1.  1.  0.  0.  1.]\n",
      " [ 0.  0.  1.  0.  1.  1.  0.  1.  1.  0.]\n",
      " [ 1.  1.  0.  0.  1.  0.  1.  1.  1.  1.]\n",
      " [ 1.  1.  1.  1.  1.  0.  1.  1.  0.  1.]\n",
      " [ 1.  0.  1.  1.  1.  0.  1.  0.  1.  0.]\n",
      " [ 1.  0.  1.  1.  1.  1.  0.  0.  1.  0.]\n",
      " [ 1.  1.  1.  0.  1.  1.  0.  1.  1.  1.]\n",
      " [ 0.  0.  1.  1.  0.  1.  1.  0.  1.  1.]]\n",
      "[[-2. -1.  1.  0.  1.  1.  0.  0.  1.  1.]\n",
      " [-1.  0.  0.  0.  0.  0.  1.  0.  1.  1.]\n",
      " [ 1.  1.  1.  0.  1.  1.  1.  0.  0.  1.]\n",
      " [ 0.  0.  1.  0.  1.  1.  0.  1.  1.  0.]\n",
      " [ 1.  1.  0.  0.  1.  0.  1.  1.  1.  1.]\n",
      " [ 1.  1.  1.  1.  1.  0.  1.  1.  0.  1.]\n",
      " [ 1.  0.  1.  1.  1.  0.  1.  0.  1.  0.]\n",
      " [ 1.  0.  1.  1.  1.  1.  0.  0.  1.  0.]\n",
      " [ 1.  1.  1.  0.  1.  1.  0.  1.  1.  1.]\n",
      " [ 0.  0.  1.  1.  0.  1.  1.  0.  1.  1.]]\n"
     ]
    }
   ],
   "source": [
    "Foret = produireForet(0.7,10,10)\n",
    "print(Foret) # avant\n",
    "update(Foret)\n",
    "print(Foret) # apres"
   ]
  },
  {
   "cell_type": "code",
   "execution_count": 0,
   "metadata": {
    "collapsed": false,
    "deletable": false,
    "nbgrader": {
     "cell_type": "code",
     "checksum": "a1d706a4b769949ef3485105d226a039",
     "grade": true,
     "grade_id": "cell-dfe2d176ecf52340",
     "locked": false,
     "points": 1,
     "schema_version": 3,
     "solution": true,
     "task": false
    }
   },
   "outputs": [
   ],
   "source": [
    "# YOUR CODE HERE\n",
    "raise NotImplementedError()"
   ]
  },
  {
   "cell_type": "markdown",
   "metadata": {
    "collapsed": false,
    "deletable": false,
    "editable": false,
    "nbgrader": {
     "cell_type": "markdown",
     "checksum": "e6bcce2dc40028c8f8cfb0e3989579bf",
     "grade": false,
     "grade_id": "cell-947c662a1f95f6ec",
     "locked": true,
     "schema_version": 3,
     "solution": false,
     "task": false
    }
   },
   "source": [
    "### Q5 / Laisser le feu évoluer\n",
    "Faire une fonction NstepBrule(T,Ntours) qui renvoie un tableau correspondant à l'évolution de T au bout de Ntours. Afficher le résultat pour une forêt de 10x10 avec une densité de 0.9 au bout de 1,5,9 et 15 tours. "
   ]
  },
  {
   "cell_type": "code",
   "execution_count": 69,
   "metadata": {
    "collapsed": false,
    "deletable": false,
    "nbgrader": {
     "cell_type": "code",
     "checksum": "ca17da818f44c465aa4a1ede60bf675d",
     "grade": true,
     "grade_id": "cell-f3e7b1c7d37a2965",
     "locked": false,
     "points": 8,
     "schema_version": 3,
     "solution": true,
     "task": false
    }
   },
   "outputs": [
   ],
   "source": [
    "def NstepBrule(T, Ntours):\n",
    "    for i in range(Ntours):\n",
    "        update(T)"
   ]
  },
  {
   "cell_type": "code",
   "execution_count": 77,
   "metadata": {
    "collapsed": false,
    "deletable": false,
    "nbgrader": {
     "cell_type": "code",
     "checksum": "44f81821a73a0db6acb3e4da127c910f",
     "grade": true,
     "grade_id": "cell-f6800da33aa008da",
     "locked": false,
     "points": 1,
     "schema_version": 3,
     "solution": true,
     "task": false
    }
   },
   "outputs": [
    {
     "name": "stdout",
     "output_type": "stream",
     "text": [
      "[[-1.  0.  0.  1.  1.  1.  1.  0.  1.  1.]\n",
      " [ 1.  1.  1.  1.  1.  0.  1.  1.  1.  1.]\n",
      " [ 1.  1.  1.  1.  1.  1.  1.  1.  1.  1.]\n",
      " [ 1.  1.  0.  0.  1.  1.  1.  1.  1.  0.]\n",
      " [ 1.  1.  1.  0.  1.  1.  1.  1.  1.  1.]\n",
      " [ 1.  1.  1.  1.  1.  1.  1.  1.  1.  1.]\n",
      " [ 1.  1.  1.  1.  1.  1.  1.  1.  1.  1.]\n",
      " [ 1.  1.  1.  1.  1.  1.  1.  1.  1.  0.]\n",
      " [ 1.  1.  1.  1.  1.  1.  1.  1.  1.  1.]\n",
      " [ 1.  1.  1.  1.  1.  1.  1.  1.  1.  1.]]\n",
      "[[-2.  0.  0.  1.  1.  1.  1.  0.  1.  1.]\n",
      " [-1. -1.  1.  1.  1.  0.  1.  1.  1.  1.]\n",
      " [ 1.  1.  1.  1.  1.  1.  1.  1.  1.  1.]\n",
      " [ 1.  1.  0.  0.  1.  1.  1.  1.  1.  0.]\n",
      " [ 1.  1.  1.  0.  1.  1.  1.  1.  1.  1.]\n",
      " [ 1.  1.  1.  1.  1.  1.  1.  1.  1.  1.]\n",
      " [ 1.  1.  1.  1.  1.  1.  1.  1.  1.  1.]\n",
      " [ 1.  1.  1.  1.  1.  1.  1.  1.  1.  0.]\n",
      " [ 1.  1.  1.  1.  1.  1.  1.  1.  1.  1.]\n",
      " [ 1.  1.  1.  1.  1.  1.  1.  1.  1.  1.]]\n",
      "[[-2.  0.  0. -2. -2. -1.  1.  0.  1.  1.]\n",
      " [-2. -2. -2. -2. -2.  0.  1.  1.  1.  1.]\n",
      " [-2. -2. -2. -2. -2. -1.  1.  1.  1.  1.]\n",
      " [-2. -2.  0.  0. -2. -1.  1.  1.  1.  0.]\n",
      " [-2. -2. -2.  0. -1. -1.  1.  1.  1.  1.]\n",
      " [-1. -1. -1. -1.  1.  1.  1.  1.  1.  1.]\n",
      " [ 1.  1.  1.  1.  1.  1.  1.  1.  1.  1.]\n",
      " [ 1.  1.  1.  1.  1.  1.  1.  1.  1.  0.]\n",
      " [ 1.  1.  1.  1.  1.  1.  1.  1.  1.  1.]\n",
      " [ 1.  1.  1.  1.  1.  1.  1.  1.  1.  1.]]\n",
      "[[-2.  0.  0. -2. -2. -2. -2.  0. -2. -1.]\n",
      " [-2. -2. -2. -2. -2.  0. -2. -2. -2. -1.]\n",
      " [-2. -2. -2. -2. -2. -2. -2. -2. -2. -1.]\n",
      " [-2. -2.  0.  0. -2. -2. -2. -2. -2.  0.]\n",
      " [-2. -2. -2.  0. -2. -2. -2. -2. -2. -1.]\n",
      " [-2. -2. -2. -2. -2. -2. -2. -2. -2. -1.]\n",
      " [-2. -2. -2. -2. -2. -2. -2. -2. -2. -1.]\n",
      " [-2. -2. -2. -2. -2. -2. -2. -2. -2.  0.]\n",
      " [-2. -2. -2. -2. -2. -2. -2. -1. -1. -1.]\n",
      " [-1. -1. -1. -1. -1. -1. -1. -1.  1.  1.]]\n",
      "[[-2.  0.  0. -2. -2. -2. -2.  0. -2. -2.]\n",
      " [-2. -2. -2. -2. -2.  0. -2. -2. -2. -2.]\n",
      " [-2. -2. -2. -2. -2. -2. -2. -2. -2. -2.]\n",
      " [-2. -2.  0.  0. -2. -2. -2. -2. -2.  0.]\n",
      " [-2. -2. -2.  0. -2. -2. -2. -2. -2. -2.]\n",
      " [-2. -2. -2. -2. -2. -2. -2. -2. -2. -2.]\n",
      " [-2. -2. -2. -2. -2. -2. -2. -2. -2. -2.]\n",
      " [-2. -2. -2. -2. -2. -2. -2. -2. -2.  0.]\n",
      " [-2. -2. -2. -2. -2. -2. -2. -2. -2. -2.]\n",
      " [-2. -2. -2. -2. -2. -2. -2. -2. -2. -2.]]\n"
     ]
    }
   ],
   "source": [
    "Foret = produireForet(0.9,10,10)\n",
    "print(Foret)\n",
    "NstepBrule(Foret,1)\n",
    "print(Foret)\n",
    "NstepBrule(Foret,4)\n",
    "print(Foret)\n",
    "NstepBrule(Foret,4)\n",
    "print(Foret)\n",
    "NstepBrule(Foret,4)\n",
    "print(Foret)"
   ]
  },
  {
   "cell_type": "markdown",
   "metadata": {
    "collapsed": false,
    "deletable": false,
    "editable": false,
    "nbgrader": {
     "cell_type": "markdown",
     "checksum": "4e2388663c032e44cfeb86a00eeedf24",
     "grade": false,
     "grade_id": "cell-d941869d5e5522e8",
     "locked": true,
     "schema_version": 3,
     "solution": false,
     "task": false
    }
   },
   "source": [
    "### Q5bis / Faire la même chose pour une densité initiale de 0.3. Que peut-on dire ?"
   ]
  },
  {
   "cell_type": "code",
   "execution_count": 79,
   "metadata": {
    "collapsed": false,
    "deletable": false,
    "nbgrader": {
     "cell_type": "code",
     "checksum": "5431f2a4d14e00b39eb41a09edb7fa37",
     "grade": true,
     "grade_id": "cell-d06fa0e9d28a82bc",
     "locked": false,
     "points": 1,
     "schema_version": 3,
     "solution": true,
     "task": false
    }
   },
   "outputs": [
    {
     "name": "stdout",
     "output_type": "stream",
     "text": [
      "[[-1.  0.  0.  0.  0.  0.  0.  0.  0.  1.]\n",
      " [ 0.  0.  0.  0.  0.  0.  0.  0.  0.  1.]\n",
      " [ 1.  0.  0.  1.  1.  1.  0.  0.  0.  0.]\n",
      " [ 0.  0.  0.  1.  0.  0.  1.  0.  0.  0.]\n",
      " [ 1.  1.  1.  0.  0.  0.  0.  0.  1.  0.]\n",
      " [ 1.  0.  0.  1.  0.  1.  0.  0.  1.  0.]\n",
      " [ 0.  0.  0.  1.  0.  0.  0.  1.  1.  0.]\n",
      " [ 0.  0.  0.  0.  0.  0.  1.  0.  0.  1.]\n",
      " [ 0.  1.  0.  0.  0.  1.  1.  1.  0.  0.]\n",
      " [ 0.  0.  0.  0.  0.  0.  1.  0.  0.  1.]]\n",
      "[[-2.  0.  0.  0.  0.  0.  0.  0.  0.  1.]\n",
      " [ 0.  0.  0.  0.  0.  0.  0.  0.  0.  1.]\n",
      " [ 1.  0.  0.  1.  1.  1.  0.  0.  0.  0.]\n",
      " [ 0.  0.  0.  1.  0.  0.  1.  0.  0.  0.]\n",
      " [ 1.  1.  1.  0.  0.  0.  0.  0.  1.  0.]\n",
      " [ 1.  0.  0.  1.  0.  1.  0.  0.  1.  0.]\n",
      " [ 0.  0.  0.  1.  0.  0.  0.  1.  1.  0.]\n",
      " [ 0.  0.  0.  0.  0.  0.  1.  0.  0.  1.]\n",
      " [ 0.  1.  0.  0.  0.  1.  1.  1.  0.  0.]\n",
      " [ 0.  0.  0.  0.  0.  0.  1.  0.  0.  1.]]\n",
      "[[-2.  0.  0.  0.  0.  0.  0.  0.  0.  1.]\n",
      " [ 0.  0.  0.  0.  0.  0.  0.  0.  0.  1.]\n",
      " [ 1.  0.  0.  1.  1.  1.  0.  0.  0.  0.]\n",
      " [ 0.  0.  0.  1.  0.  0.  1.  0.  0.  0.]\n",
      " [ 1.  1.  1.  0.  0.  0.  0.  0.  1.  0.]\n",
      " [ 1.  0.  0.  1.  0.  1.  0.  0.  1.  0.]\n",
      " [ 0.  0.  0.  1.  0.  0.  0.  1.  1.  0.]\n",
      " [ 0.  0.  0.  0.  0.  0.  1.  0.  0.  1.]\n",
      " [ 0.  1.  0.  0.  0.  1.  1.  1.  0.  0.]\n",
      " [ 0.  0.  0.  0.  0.  0.  1.  0.  0.  1.]]\n",
      "[[-2.  0.  0.  0.  0.  0.  0.  0.  0.  1.]\n",
      " [ 0.  0.  0.  0.  0.  0.  0.  0.  0.  1.]\n",
      " [ 1.  0.  0.  1.  1.  1.  0.  0.  0.  0.]\n",
      " [ 0.  0.  0.  1.  0.  0.  1.  0.  0.  0.]\n",
      " [ 1.  1.  1.  0.  0.  0.  0.  0.  1.  0.]\n",
      " [ 1.  0.  0.  1.  0.  1.  0.  0.  1.  0.]\n",
      " [ 0.  0.  0.  1.  0.  0.  0.  1.  1.  0.]\n",
      " [ 0.  0.  0.  0.  0.  0.  1.  0.  0.  1.]\n",
      " [ 0.  1.  0.  0.  0.  1.  1.  1.  0.  0.]\n",
      " [ 0.  0.  0.  0.  0.  0.  1.  0.  0.  1.]]\n",
      "[[-2.  0.  0.  0.  0.  0.  0.  0.  0.  1.]\n",
      " [ 0.  0.  0.  0.  0.  0.  0.  0.  0.  1.]\n",
      " [ 1.  0.  0.  1.  1.  1.  0.  0.  0.  0.]\n",
      " [ 0.  0.  0.  1.  0.  0.  1.  0.  0.  0.]\n",
      " [ 1.  1.  1.  0.  0.  0.  0.  0.  1.  0.]\n",
      " [ 1.  0.  0.  1.  0.  1.  0.  0.  1.  0.]\n",
      " [ 0.  0.  0.  1.  0.  0.  0.  1.  1.  0.]\n",
      " [ 0.  0.  0.  0.  0.  0.  1.  0.  0.  1.]\n",
      " [ 0.  1.  0.  0.  0.  1.  1.  1.  0.  0.]\n",
      " [ 0.  0.  0.  0.  0.  0.  1.  0.  0.  1.]]\n"
     ]
    }
   ],
   "source": [
    "Foret = produireForet(0.3,10,10)\n",
    "print(Foret)\n",
    "NstepBrule(Foret,1)\n",
    "print(Foret)\n",
    "NstepBrule(Foret,4)\n",
    "print(Foret)\n",
    "NstepBrule(Foret,4)\n",
    "print(Foret)\n",
    "NstepBrule(Foret,4)\n",
    "print(Foret)"
   ]
  },
  {
   "cell_type": "markdown",
   "metadata": {
    "collapsed": false,
    "deletable": false,
    "nbgrader": {
     "cell_type": "markdown",
     "checksum": "2e5d8f84120b044273a87900d8a950ae",
     "grade": true,
     "grade_id": "cell-a44d7f48f507b0d7",
     "locked": false,
     "points": 2,
     "schema_version": 3,
     "solution": true,
     "task": false
    }
   },
   "source": [
    "YOUR ANSWER HERE"
   ]
  },
  {
   "cell_type": "markdown",
   "metadata": {
    "collapsed": false,
    "deletable": false,
    "editable": false,
    "nbgrader": {
     "cell_type": "markdown",
     "checksum": "3d8fa50a46afd10d6af0aedaefbf8a37",
     "grade": false,
     "grade_id": "cell-954ac119e4bf33c1",
     "locked": true,
     "schema_version": 3,
     "solution": false,
     "task": false
    }
   },
   "source": [
    "### Q6 / Constater les dégâts\n",
    "Faire une fonction popBrule(T0,Ntours) qui renvoie l'évolution de la population d'arbres brûlés pendant Ntours en fonction du temps en partant d'un tableau initial T0. Faire une fonction Narbres(T0) qui renvoie le nombre d'arbre vivants dans le tableau T0."
   ]
  },
  {
   "cell_type": "code",
   "execution_count": 122,
   "metadata": {
    "collapsed": false,
    "deletable": false,
    "nbgrader": {
     "cell_type": "code",
     "checksum": "4c4ca12bb66278f0061a666e62411aa7",
     "grade": true,
     "grade_id": "cell-57bab04b796a0b5f",
     "locked": false,
     "points": 4,
     "schema_version": 3,
     "solution": true,
     "task": false
    }
   },
   "outputs": [
   ],
   "source": [
    "def popBrule(T0, Ntours):\n",
    "    T_tours = np.copy(T0)\n",
    "    casesVoisines = []\n",
    "    #casesVoisines.append(len(np.where(T_tours==-2)[0])) # -2 ????????????\n",
    "    # on ajoute avant la boucle pour prise en compte de letat itial\n",
    "    for i in range(Ntours):\n",
    "        update(T_tours)\n",
    "        casesVoisines.append(len(np.where(T_tours==-2)[0]))\n",
    "    return casesVoisines\n",
    "\n",
    "def Narbres(T0): #jai pas compris ce qui est demande ici ???\n",
    "    return len(np.where(T0==1)[0])"
   ]
  },
  {
   "cell_type": "code",
   "execution_count": 111,
   "metadata": {
    "collapsed": false
   },
   "outputs": [
    {
     "name": "stdout",
     "output_type": "stream",
     "text": [
      "[1, 4, 7, 14, 22, 30, 42, 55, 70, 87, 88, 88, 88, 88, 88]\n",
      "[[-2. -2. -2. -2. -2. -2. -2. -2. -2. -2.]\n",
      " [-2. -2.  0. -2. -2. -2. -2. -2. -2. -2.]\n",
      " [ 0. -2. -2. -2. -2. -2. -2. -2. -2. -2.]\n",
      " [-2. -2. -2. -2. -2.  0. -2. -2. -2. -2.]\n",
      " [-2. -2. -2. -2.  0. -2. -2. -2. -2. -2.]\n",
      " [-2.  0. -2. -2. -2. -2. -2. -2. -2. -2.]\n",
      " [ 0. -2. -2. -2. -2. -2. -2. -2.  0. -2.]\n",
      " [ 0. -2.  0. -2. -2. -2. -2. -2. -2. -2.]\n",
      " [-2. -2. -2.  0. -2. -2. -2. -2. -2. -2.]\n",
      " [-2. -2. -2. -2. -2. -2.  0.  0. -2. -2.]]\n"
     ]
    }
   ],
   "source": [
    "Foret = produireForet(0.9,10,10)\n",
    "popBrulees = popBrule(Foret, 15)\n",
    "print(popBrulees)\n",
    "NstepBrule(Foret,15) # tableau quia ete copie donc le mettre a jour manuellement comme ici\n",
    "print(Foret)\n"
   ]
  },
  {
   "cell_type": "markdown",
   "metadata": {
    "collapsed": false,
    "deletable": false,
    "editable": false,
    "nbgrader": {
     "cell_type": "markdown",
     "checksum": "99ba2e5a72efe79f985c31ae0c137509",
     "grade": false,
     "grade_id": "cell-9c8043e094892c0a",
     "locked": true,
     "schema_version": 3,
     "solution": false,
     "task": false
    }
   },
   "source": [
    "### Q7 / Observation du comportement en fonction de la densité\n",
    "Tracer sur un même graphe plusieurs courbes d'évolution de la proportion d'arbres brûlés pour une densité initiale de 0.9. On tracera les résultats sous forme de pourcentage de la population totale. \n",
    "\n",
    "On prendra une taille de la forêt de 50x50 pour faire la simulation et un nombre de pas de 100."
   ]
  },
  {
   "cell_type": "code",
   "execution_count": 149,
   "metadata": {
    "collapsed": false,
    "deletable": false,
    "nbgrader": {
     "cell_type": "code",
     "checksum": "50fa6b0cd0053e772b3cff7bea9ea488",
     "grade": true,
     "grade_id": "cell-95f00e229f86f871",
     "locked": false,
     "points": 4,
     "schema_version": 3,
     "solution": true,
     "task": false
    }
   },
   "outputs": [
    {
     "data": {
      "image/png": "[encoded data removed]",
      "text/plain": [
       "<Figure size 432x288 with 1 Axes>"
      ]
     },
     "execution_count": 149,
     "metadata": {
      "image/png": {
       "height": 261,
       "width": 388
      }
     },
     "output_type": "execute_result"
    }
   ],
   "source": [
    "fig, ax = plt.subplots()#figsize=(5,5)\n",
    "x = np.linspace(0, 100, 100)\n",
    "\n",
    "Foret = produireForet(0.9,50,50)\n",
    "tous_les_arbres = Narbres(Foret) + listeFlamme(Foret)\n",
    "popBrulees = popBrule(Foret, 100)\n",
    "plt.plot(x, np.array(popBrulees)/tous_les_arbres*100, label=\"Densite 0.9\")\n",
    "\n",
    "Foret = produireForet(0.9,50,50)\n",
    "tous_les_arbres = Narbres(Foret) + listeFlamme(Foret)\n",
    "popBrulees = popBrule(Foret, 100)\n",
    "plt.plot(x, np.array(popBrulees)/tous_les_arbres*100, label=\"Densite 0.9\")\n",
    "\n",
    "Foret = produireForet(0.9,50,50)\n",
    "tous_les_arbres = Narbres(Foret) + listeFlamme(Foret)\n",
    "popBrulees = popBrule(Foret, 100)\n",
    "plt.plot(x, np.array(popBrulees)/tous_les_arbres*100, label=\"Densite 0.9\")\n",
    "\n",
    "ax.set_xlabel(\"Tours\") # titre de l'axe des  abscisses\n",
    "ax.set_ylabel(\"Arbres\") # titre de l'axe des ordonnées\n",
    "plt.legend()\n",
    "plt.show()"
   ]
  },
  {
   "cell_type": "markdown",
   "metadata": {
    "collapsed": false,
    "deletable": false,
    "editable": false,
    "nbgrader": {
     "cell_type": "markdown",
     "checksum": "42eb89796bf0d912f3eac0f5563b11f0",
     "grade": false,
     "grade_id": "cell-28e788e96e2b0312",
     "locked": true,
     "schema_version": 3,
     "solution": false,
     "task": false
    }
   },
   "source": [
    "### Q7bis Faire la même chose pour une densité initiale de 0.3 (on ne fera que 20 pas de temps)."
   ]
  },
  {
   "cell_type": "raw",
   "metadata": {
    "collapsed": false,
    "deletable": false,
    "nbgrader": {
     "cell_type": "code",
     "checksum": "14313a2a60a0d2619589a5fea4f049f6",
     "grade": true,
     "grade_id": "cell-e0a8bdce45d83547",
     "locked": false,
     "points": 4,
     "schema_version": 3,
     "solution": true,
     "task": false
    }
   },
   "source": [
    "fig, ax = plt.subplots(figsize=(5,5))\n",
    "x = np.linspace(0, 20, 20)\n",
    "\n",
    "Foret = produireForet(0.3,50,50)\n",
    "tous_les_arbres = Narbres(Foret) + listeFlamme(Foret)\n",
    "print(tous_les_arbres)\n",
    "popBrulees = popBrule(Foret, 20)\n",
    "plt.plot(x, np.array(popBrulees)/tous_les_arbres*100, label=\"Densite 0.3\")\n",
    "\n",
    "ax.set_xlabel(\"Tours\") # titre de l'axe des  abscisses\n",
    "ax.set_ylabel(\"Arbres\") # titre de l'axe des ordonnées\n",
    "plt.legend()\n",
    "plt.show()"
   ]
  },
  {
   "cell_type": "code",
   "execution_count": 167,
   "metadata": {
    "collapsed": false
   },
   "outputs": [
    {
     "name": "stdout",
     "output_type": "stream",
     "text": [
      "797\n",
      "[[-1.  0.  0. ...  1.  0.  1.]\n",
      " [ 1.  0.  0. ...  0.  0.  0.]\n",
      " [ 0.  0.  0. ...  0.  1.  1.]\n",
      " ...\n",
      " [ 0.  1.  0. ...  0.  0.  0.]\n",
      " [ 1.  0.  1. ...  0.  1.  0.]\n",
      " [ 0.  0.  0. ...  1.  0.  1.]]\n"
     ]
    },
    {
     "data": {
      "image/png": "[encoded data removed]",
      "text/plain": [
       "<Figure size 360x360 with 1 Axes>"
      ]
     },
     "execution_count": 167,
     "metadata": {
      "image/png": {
       "height": 316,
       "width": 336
      }
     },
     "output_type": "execute_result"
    }
   ],
   "source": [
    "fig, ax = plt.subplots(figsize=(5,5))\n",
    "x = np.linspace(0, 20, 20)\n",
    "\n",
    "Foret = produireForet(0.3,50,50)\n",
    "tous_les_arbres = Narbres(Foret) + listeFlamme(Foret)\n",
    "print(tous_les_arbres)\n",
    "popBrulees = popBrule(Foret, 20)\n",
    "plt.plot(x, np.array(popBrulees)/tous_les_arbres*100, label=\"Densite 0.3\")\n",
    "print(Foret)\n",
    "ax.set_xlabel(\"Tours\") # titre de l'axe des  abscisses\n",
    "ax.set_ylabel(\"Arbres\") # titre de l'axe des ordonnées\n",
    "plt.legend()\n",
    "plt.show()"
   ]
  },
  {
   "cell_type": "markdown",
   "metadata": {
    "collapsed": false,
    "deletable": false,
    "editable": false,
    "nbgrader": {
     "cell_type": "markdown",
     "checksum": "d9db0abea9247e592f91250d4d4165e6",
     "grade": false,
     "grade_id": "cell-f51a79c120048518",
     "locked": true,
     "schema_version": 3,
     "solution": false,
     "task": false
    }
   },
   "source": [
    "### Q7ter / Quelle est la différence entre les deux densités ?"
   ]
  },
  {
   "cell_type": "markdown",
   "metadata": {
    "collapsed": false,
    "deletable": false,
    "nbgrader": {
     "cell_type": "markdown",
     "checksum": "0598b21b5ed8905e06bbc56c90b0116e",
     "grade": true,
     "grade_id": "cell-d09f8d38f0f95578",
     "locked": false,
     "points": 4,
     "schema_version": 3,
     "solution": true,
     "task": false
    }
   },
   "source": [
    "YOUR ANSWER HERE"
   ]
  },
  {
   "cell_type": "markdown",
   "metadata": {
    "collapsed": false,
    "deletable": false,
    "editable": false,
    "nbgrader": {
     "cell_type": "markdown",
     "checksum": "d9778a5a22bcd7dd9fa5250b54bcde6d",
     "grade": false,
     "grade_id": "cell-9532c989eb9b618b",
     "locked": true,
     "schema_version": 3,
     "solution": false,
     "task": false
    }
   },
   "source": [
    "### Q8 / Comportement moyen (BONUS)\n",
    "Pour des grilles de taille 25x25, et sur une durée de 50 pas, faire la moyenne des courbes d'évolution sur 1000 réalisations pour des densités de 0.9, 0.7 et 0.3. Afficher les courbes moyennes ainsi obtenues sur un même graphique."
   ]
  },
  {
   "cell_type": "code",
   "execution_count": 0,
   "metadata": {
    "collapsed": false,
    "deletable": false,
    "nbgrader": {
     "cell_type": "code",
     "checksum": "a7dc83f22e475ffe7b860e88fa1ecf11",
     "grade": true,
     "grade_id": "cell-ac34a5ab7328b9aa",
     "locked": false,
     "points": 2,
     "schema_version": 3,
     "solution": true,
     "task": false
    }
   },
   "outputs": [
   ],
   "source": [
    "# YOUR CODE HERE\n",
    "raise NotImplementedError()"
   ]
  },
  {
   "cell_type": "markdown",
   "metadata": {
    "collapsed": false,
    "deletable": false,
    "editable": false,
    "nbgrader": {
     "cell_type": "markdown",
     "checksum": "6801ef430e57bcaee36b386ca99be4dc",
     "grade": false,
     "grade_id": "cell-6b0ae320d7c988a0",
     "locked": true,
     "schema_version": 3,
     "solution": false,
     "task": false
    }
   },
   "source": [
    "### Q8bis / Que remarque-t-on ?"
   ]
  },
  {
   "cell_type": "markdown",
   "metadata": {
    "collapsed": false,
    "deletable": false,
    "nbgrader": {
     "cell_type": "markdown",
     "checksum": "6dcc9ff1c4fda21a36ac89ae0503275b",
     "grade": true,
     "grade_id": "cell-4bf8cbe99ce3dd53",
     "locked": false,
     "points": 1,
     "schema_version": 3,
     "solution": true,
     "task": false
    }
   },
   "source": [
    "YOUR ANSWER HERE"
   ]
  },
  {
   "cell_type": "markdown",
   "metadata": {
    "collapsed": false,
    "deletable": false,
    "editable": false,
    "nbgrader": {
     "cell_type": "markdown",
     "checksum": "532929e45938a616eec3d26051caaa2e",
     "grade": false,
     "grade_id": "cell-2ea09585bb1a876c",
     "locked": true,
     "schema_version": 3,
     "solution": false,
     "task": false
    }
   },
   "source": [
    "### Q9 / Percolation (BONUS)\n",
    "En faisant varier la densité entre 0 et 1 sur une vingtaine de points et avec le même type de paramètres que dans la question précédente, tracer sur une courbe la proportion finale d'arbres brûlés en fonction de la densité initiale de la forêt."
   ]
  },
  {
   "cell_type": "code",
   "execution_count": 0,
   "metadata": {
    "collapsed": false,
    "deletable": false,
    "nbgrader": {
     "cell_type": "code",
     "checksum": "d33a7206dfcdf1272e677046f5a41d46",
     "grade": true,
     "grade_id": "cell-320569e04352b8f7",
     "locked": false,
     "points": 2,
     "schema_version": 3,
     "solution": true,
     "task": false
    }
   },
   "outputs": [
   ],
   "source": [
    "# YOUR CODE HERE\n",
    "raise NotImplementedError()"
   ]
  },
  {
   "cell_type": "markdown",
   "metadata": {
    "collapsed": false,
    "deletable": false,
    "editable": false,
    "nbgrader": {
     "cell_type": "markdown",
     "checksum": "806e319865dec2aa67f06e7bc9798b70",
     "grade": false,
     "grade_id": "cell-1ad3e08c5f20c241",
     "locked": true,
     "schema_version": 3,
     "solution": false,
     "task": false
    }
   },
   "source": [
    "La courbe devrait en fait commencer à zéro si la taille du système était réellement infinie. À partir d'une valeur seuil de densité d0, elle doit commencer à croître. On dit que le système subit une percolation. Au-delà d'une certaine densité d'arbres l'incendie ravagera une proportion non nulle de la forêt...."
   ]
  }
 ],
 "metadata": {
  "kernelspec": {
   "display_name": "Python 3 (system-wide)",
   "language": "python",
   "metadata": {
    "cocalc": {
     "description": "Python 3 programming language",
     "priority": 100,
     "url": "https://www.python.org/"
    }
   },
   "name": "python3"
  },
  "language_info": {
   "codemirror_mode": {
    "name": "ipython",
    "version": 3
   },
   "file_extension": ".py",
   "mimetype": "text/x-python",
   "name": "python",
   "nbconvert_exporter": "python",
   "pygments_lexer": "ipython3",
   "version": "3.6.8"
  }
 },
 "nbformat": 4,
 "nbformat_minor": 0
}